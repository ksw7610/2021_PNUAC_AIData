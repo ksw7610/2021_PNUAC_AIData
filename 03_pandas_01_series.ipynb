{
  "nbformat": 4,
  "nbformat_minor": 0,
  "metadata": {
    "colab": {
      "name": "03_pandas_01_series.ipynb",
      "provenance": [],
      "collapsed_sections": [
        "4KcXf93NvRYF",
        "d0E16AJisWtp",
        "HfWit-RAxT3K",
        "kwW885PFyuRN",
        "NZG5FYmfzuSu",
        "cmdEnUaa06Ss",
        "JLUVMpZG3aMB",
        "Qamj0jPw6-Fl",
        "QTVb55OJ7HQx",
        "0L8-sxGe7m1d",
        "y5yftJED790Q",
        "bFXP2GytA5X_",
        "5otXQBjgCfxm"
      ],
      "toc_visible": true,
      "include_colab_link": true
    },
    "interpreter": {
      "hash": "b3ba2566441a7c06988d0923437866b63cedc61552a5af99d1f4fb67d367b25f"
    },
    "kernelspec": {
      "display_name": "Python 3.8.5 64-bit ('base': conda)",
      "name": "python3"
    },
    "language_info": {
      "name": "python",
      "version": ""
    }
  },
  "cells": [
    {
      "cell_type": "markdown",
      "metadata": {
        "id": "view-in-github",
        "colab_type": "text"
      },
      "source": [
        "<a href=\"https://colab.research.google.com/github/ksw7610/2021_PNUAC_AIData/blob/main/03_pandas_01_series.ipynb\" target=\"_parent\"><img src=\"https://colab.research.google.com/assets/colab-badge.svg\" alt=\"Open In Colab\"/></a>"
      ]
    },
    {
      "cell_type": "markdown",
      "metadata": {
        "id": "oXiH4jCRsYLt"
      },
      "source": [
        "# **pandas**\n",
        "\n",
        "\n",
        "---\n",
        "\n",
        "\n",
        "## **파이썬에서 사용하는 데이터분석 라이브러리**\n",
        " + 행과 열로 이루어진 데이터 객체를 만들어 다룰 수 있게 되며 보다 안정적으로 대용량의 데이터들을 처리하는데 매우 편리한 도구\n",
        " + NumPy를 기반으로 구축되었으며 과학 컴퓨팅 환경 내에서 다른 많은 타사 라이브러리와 잘 통합되도록 설계 \n",
        " + 많은 기능을 가진 데이터 구조\n",
        "   - 다양한 방식으로 색인된 데이터를 다룰 수 있는 기능\n",
        "   - 시계열 데이터와 비시계열 데이터를 함께 다룰 수 있는 통합 자료 구조\n",
        "   - 누락된 데이터를 유연하게 처리할 수 있는 기능\n",
        "   - SQL 같은 일반 데이터베이스처럼 데이터를 합치고 관계연산을 수행하는 기능\n",
        "\n",
        "### **pandas 자료 구조**\n",
        "* **Series**\n",
        " + 1차원 자료구조\n",
        " + index로 value를 구분하는 1차원 자료구조\n",
        "\n",
        "* **DataFrame**\n",
        " + 2차원 자료구조\n",
        " + DataFrame는 행과 열이 있는 테이블 데이터\n",
        "\n",
        "\n",
        "\n",
        "---\n",
        "\n"
      ]
    },
    {
      "cell_type": "markdown",
      "metadata": {
        "id": "4KcXf93NvRYF"
      },
      "source": [
        "\n",
        "### **pandas 라이브러리 추가**"
      ]
    },
    {
      "cell_type": "code",
      "metadata": {
        "id": "qP-hrdOdqf41"
      },
      "source": [
        "import pandas as pd"
      ],
      "execution_count": null,
      "outputs": []
    },
    {
      "cell_type": "markdown",
      "metadata": {
        "id": "LAnEv6KrS1yY"
      },
      "source": [
        "\n",
        "# **pandas Series**"
      ]
    },
    {
      "cell_type": "markdown",
      "metadata": {
        "id": "d0E16AJisWtp"
      },
      "source": [
        "### **리스트(list)를 시리즈(Series) 변경**"
      ]
    },
    {
      "cell_type": "markdown",
      "metadata": {
        "id": "qHTESQA2xuhU"
      },
      "source": [
        "#### pd.Series()"
      ]
    },
    {
      "cell_type": "code",
      "metadata": {
        "colab": {
          "base_uri": "https://localhost:8080/"
        },
        "id": "mlr1tureqzcQ",
        "outputId": "45603fe5-b0b4-4b07-9c64-7610069cb636"
      },
      "source": [
        "lt = [4.1, 5.5, 9.0, 15.0, 19.0 ,21.3]\n",
        "slt=pd.Series(lt)\n",
        "print(slt)\n",
        "print(type(slt))"
      ],
      "execution_count": null,
      "outputs": [
        {
          "output_type": "stream",
          "text": [
            "0     4.1\n",
            "1     5.5\n",
            "2     9.0\n",
            "3    15.0\n",
            "4    19.0\n",
            "5    21.3\n",
            "dtype: float64\n",
            "<class 'pandas.core.series.Series'>\n"
          ],
          "name": "stdout"
        }
      ]
    },
    {
      "cell_type": "code",
      "metadata": {
        "colab": {
          "base_uri": "https://localhost:8080/"
        },
        "id": "0g85AdHaU8bb",
        "outputId": "64d008e2-cd73-4a14-9016-d051e13b38c6"
      },
      "source": [
        "print(slt[2])"
      ],
      "execution_count": null,
      "outputs": [
        {
          "output_type": "stream",
          "text": [
            "9.0\n"
          ],
          "name": "stdout"
        }
      ]
    },
    {
      "cell_type": "markdown",
      "metadata": {
        "id": "HZY2L540yCin"
      },
      "source": [
        "#### 리스트를 변경한 series index, values"
      ]
    },
    {
      "cell_type": "code",
      "metadata": {
        "colab": {
          "base_uri": "https://localhost:8080/"
        },
        "id": "bGHqaUmHr7Cr",
        "outputId": "959e7704-f3b8-4544-ee79-dc915007a3f8"
      },
      "source": [
        "print('index:',slt.index)\n",
        "print('index:',slt.keys())\n",
        "print('value:',slt.values)"
      ],
      "execution_count": null,
      "outputs": [
        {
          "output_type": "stream",
          "text": [
            "index: RangeIndex(start=0, stop=6, step=1)\n",
            "index: RangeIndex(start=0, stop=6, step=1)\n",
            "value: [ 4.1  5.5  9.  15.  19.  21.3]\n"
          ],
          "name": "stdout"
        }
      ]
    },
    {
      "cell_type": "markdown",
      "metadata": {
        "id": "HfWit-RAxT3K"
      },
      "source": [
        "### **딕션너리(dictionary)를 시리즈(Series)로 변경**"
      ]
    },
    {
      "cell_type": "markdown",
      "metadata": {
        "id": "kwW885PFyuRN"
      },
      "source": [
        "#### pd.Series()"
      ]
    },
    {
      "cell_type": "code",
      "metadata": {
        "colab": {
          "base_uri": "https://localhost:8080/"
        },
        "id": "Onsmw6rNq-IJ",
        "outputId": "f8f6e688-449e-45c3-bcbf-274b0ec43712"
      },
      "source": [
        "#dataframe -> series\n",
        "dt = {'1월':4.1, '2월':5.5, '3월':9.0, '4월':15.0, '5월':19.0 ,'6월':21.3}\n",
        "sdt=pd.Series(dt)\n",
        "print(sdt)"
      ],
      "execution_count": null,
      "outputs": [
        {
          "output_type": "stream",
          "text": [
            "1월     4.1\n",
            "2월     5.5\n",
            "3월     9.0\n",
            "4월    15.0\n",
            "5월    19.0\n",
            "6월    21.3\n",
            "dtype: float64\n"
          ],
          "name": "stdout"
        }
      ]
    },
    {
      "cell_type": "markdown",
      "metadata": {
        "id": "TnDYv6kRzETr"
      },
      "source": [
        "#### 딕션너리를 변경한 series index, **values**"
      ]
    },
    {
      "cell_type": "code",
      "metadata": {
        "colab": {
          "base_uri": "https://localhost:8080/"
        },
        "id": "uJ0Ys_lmrNMM",
        "outputId": "53ceb6a3-1d46-4ae8-bf36-da18c6efc5e4"
      },
      "source": [
        "print('index :', sdt.index)\n",
        "print('index :', sdt.keys())\n",
        "print('value :', sdt.values)"
      ],
      "execution_count": null,
      "outputs": [
        {
          "output_type": "stream",
          "text": [
            "index : Index(['1월', '2월', '3월', '4월', '5월', '6월'], dtype='object')\n",
            "index : Index(['1월', '2월', '3월', '4월', '5월', '6월'], dtype='object')\n",
            "value : [ 4.1  5.5  9.  15.  19.  21.3]\n"
          ],
          "name": "stdout"
        }
      ]
    },
    {
      "cell_type": "code",
      "metadata": {
        "colab": {
          "base_uri": "https://localhost:8080/"
        },
        "id": "cf3sRuL5Vkkl",
        "outputId": "9d086807-84e2-4996-8136-6e7421d416cd"
      },
      "source": [
        "sdt['3월']\n",
        " "
      ],
      "execution_count": null,
      "outputs": [
        {
          "output_type": "execute_result",
          "data": {
            "text/plain": [
              "9.0"
            ]
          },
          "metadata": {
            "tags": []
          },
          "execution_count": 10
        }
      ]
    },
    {
      "cell_type": "markdown",
      "metadata": {
        "id": "NZG5FYmfzuSu"
      },
      "source": [
        "### **시리즈(Series) 인덱스(index) 변경하기**"
      ]
    },
    {
      "cell_type": "code",
      "metadata": {
        "id": "UhzAl0UL0ArX"
      },
      "source": [
        "ltk = ['1월', '2월', '3월', '4월', '5월', '6월']\n",
        "lt = [4.1, 5.5, 9.0, 15.0, 19.0 ,21.3]"
      ],
      "execution_count": null,
      "outputs": []
    },
    {
      "cell_type": "markdown",
      "metadata": {
        "id": "6nOM0uocz86W"
      },
      "source": [
        "#### 생성시 변경하기"
      ]
    },
    {
      "cell_type": "code",
      "metadata": {
        "colab": {
          "base_uri": "https://localhost:8080/"
        },
        "id": "RA3ULdcCz6as",
        "outputId": "261d6351-ba39-4d12-f43b-61059956b663"
      },
      "source": [
        "spt=pd.Series(lt,index=ltk)\n",
        "print(slt)"
      ],
      "execution_count": null,
      "outputs": [
        {
          "output_type": "stream",
          "text": [
            "0     4.1\n",
            "1     5.5\n",
            "2     9.0\n",
            "3    15.0\n",
            "4    19.0\n",
            "5    21.3\n",
            "dtype: float64\n"
          ],
          "name": "stdout"
        }
      ]
    },
    {
      "cell_type": "markdown",
      "metadata": {
        "id": "_jbh2QZY0dYl"
      },
      "source": [
        "#### 생성후 변경하기\n"
      ]
    },
    {
      "cell_type": "code",
      "metadata": {
        "colab": {
          "base_uri": "https://localhost:8080/"
        },
        "id": "KZi4b37y0q8z",
        "outputId": "cec5fb0a-3d39-47b2-bb90-345b3367cbe5"
      },
      "source": [
        "slt=pd.Series(lt)\n",
        "print(slt)\n",
        "\n",
        "slt.index=ltk\n",
        "print(slt)\n"
      ],
      "execution_count": null,
      "outputs": [
        {
          "output_type": "stream",
          "text": [
            "0     4.1\n",
            "1     5.5\n",
            "2     9.0\n",
            "3    15.0\n",
            "4    19.0\n",
            "5    21.3\n",
            "dtype: float64\n",
            "1월     4.1\n",
            "2월     5.5\n",
            "3월     9.0\n",
            "4월    15.0\n",
            "5월    19.0\n",
            "6월    21.3\n",
            "dtype: float64\n"
          ],
          "name": "stdout"
        }
      ]
    },
    {
      "cell_type": "code",
      "metadata": {
        "colab": {
          "base_uri": "https://localhost:8080/"
        },
        "id": "NkWLof75WFhu",
        "outputId": "441e0015-0611-4fe2-f583-4229c4c66f5b"
      },
      "source": [
        "slt.index"
      ],
      "execution_count": null,
      "outputs": [
        {
          "output_type": "execute_result",
          "data": {
            "text/plain": [
              "RangeIndex(start=0, stop=6, step=1)"
            ]
          },
          "metadata": {
            "tags": []
          },
          "execution_count": 14
        }
      ]
    },
    {
      "cell_type": "code",
      "metadata": {
        "colab": {
          "base_uri": "https://localhost:8080/"
        },
        "id": "PLjO-A_IWEM0",
        "outputId": "e4154734-b76f-4976-bd55-59912e319f1b"
      },
      "source": [
        "slt.index=ltk\n",
        "print(slt)\n",
        " "
      ],
      "execution_count": null,
      "outputs": [
        {
          "output_type": "stream",
          "text": [
            "1월     4.1\n",
            "2월     5.5\n",
            "3월     9.0\n",
            "4월    15.0\n",
            "5월    19.0\n",
            "6월    21.3\n",
            "dtype: float64\n"
          ],
          "name": "stdout"
        }
      ]
    },
    {
      "cell_type": "markdown",
      "metadata": {
        "id": "cmdEnUaa06Ss"
      },
      "source": [
        "### **시리즈(Series) 인덱싱(indexing)**\n",
        "* 인덱스를 가지고 시리즈에서 특정 항목 추출\n",
        "\n"
      ]
    },
    {
      "cell_type": "code",
      "metadata": {
        "colab": {
          "base_uri": "https://localhost:8080/"
        },
        "id": "TUaFgVms1Pgm",
        "outputId": "4a0bb39e-e896-4cca-a750-0b7260a5a2a1"
      },
      "source": [
        "ltk = ['1월', '2월', '3월', '4월', '5월', '6월']\n",
        "lt = [4.1, 5.5, 9.0, 15.0, 19.0 ,21.3]\n",
        "slt = pd.Series(lt)\n",
        "slt2 = pd.Series(lt, index=ltk)\n",
        "print(slt)\n",
        "print(slt2)"
      ],
      "execution_count": null,
      "outputs": [
        {
          "output_type": "stream",
          "text": [
            "0     4.1\n",
            "1     5.5\n",
            "2     9.0\n",
            "3    15.0\n",
            "4    19.0\n",
            "5    21.3\n",
            "dtype: float64\n",
            "1월     4.1\n",
            "2월     5.5\n",
            "3월     9.0\n",
            "4월    15.0\n",
            "5월    19.0\n",
            "6월    21.3\n",
            "dtype: float64\n"
          ],
          "name": "stdout"
        }
      ]
    },
    {
      "cell_type": "code",
      "metadata": {
        "colab": {
          "base_uri": "https://localhost:8080/"
        },
        "id": "kxa270nt3Hga",
        "outputId": "64f13038-d855-45fb-8c46-76fe57bc7f72"
      },
      "source": [
        "slt[2]\n",
        " "
      ],
      "execution_count": null,
      "outputs": [
        {
          "output_type": "execute_result",
          "data": {
            "text/plain": [
              "9.0"
            ]
          },
          "metadata": {
            "tags": []
          },
          "execution_count": 24
        }
      ]
    },
    {
      "cell_type": "code",
      "metadata": {
        "colab": {
          "base_uri": "https://localhost:8080/"
        },
        "id": "3TF_1-Ny3NGW",
        "outputId": "3f6e7695-7142-4d05-a24d-d123003d1aef"
      },
      "source": [
        "slt2['3월']\n",
        " "
      ],
      "execution_count": null,
      "outputs": [
        {
          "output_type": "execute_result",
          "data": {
            "text/plain": [
              "9.0"
            ]
          },
          "metadata": {
            "tags": []
          },
          "execution_count": 26
        }
      ]
    },
    {
      "cell_type": "markdown",
      "metadata": {
        "id": "JLUVMpZG3aMB"
      },
      "source": [
        "### **시리즈(Series) 슬라이싱(Slicing)**\n",
        "* 시리즈 일부를 추출하여 시리즈로 반환\n",
        "* 콜론(;), 쉼표(,) 사용\n",
        "* 조건 사용"
      ]
    },
    {
      "cell_type": "markdown",
      "metadata": {
        "id": "Qamj0jPw6-Fl"
      },
      "source": [
        "#### 콜론(:), 쉼표(,) 사용"
      ]
    },
    {
      "cell_type": "code",
      "metadata": {
        "colab": {
          "base_uri": "https://localhost:8080/"
        },
        "id": "8hx190om36xv",
        "outputId": "d6d3f0ab-d611-484e-c27c-c31d36263c12"
      },
      "source": [
        "sub1=slt[1:3]\n",
        " \n",
        "print(sub1)"
      ],
      "execution_count": null,
      "outputs": [
        {
          "output_type": "stream",
          "text": [
            "1    5.5\n",
            "2    9.0\n",
            "dtype: float64\n"
          ],
          "name": "stdout"
        }
      ]
    },
    {
      "cell_type": "code",
      "metadata": {
        "colab": {
          "base_uri": "https://localhost:8080/"
        },
        "id": "J1rp78tW4fwV",
        "outputId": "a35e4516-e955-4141-e932-73c4c200170d"
      },
      "source": [
        "sub2=slt2['1월':'3월']\n",
        " \n",
        "print(sub2)"
      ],
      "execution_count": null,
      "outputs": [
        {
          "output_type": "stream",
          "text": [
            "1월    4.1\n",
            "2월    5.5\n",
            "3월    9.0\n",
            "dtype: float64\n"
          ],
          "name": "stdout"
        }
      ]
    },
    {
      "cell_type": "code",
      "metadata": {
        "colab": {
          "base_uri": "https://localhost:8080/"
        },
        "id": "Xl4j7Xtu4pZL",
        "outputId": "b034393c-dc70-45f8-ca86-40022d79e387"
      },
      "source": [
        "sub1_1=slt[[1,3,5]]\n",
        " \n",
        "print(sub1_1)"
      ],
      "execution_count": null,
      "outputs": [
        {
          "output_type": "stream",
          "text": [
            "1     5.5\n",
            "3    15.0\n",
            "5    21.3\n",
            "dtype: float64\n"
          ],
          "name": "stdout"
        }
      ]
    },
    {
      "cell_type": "code",
      "metadata": {
        "colab": {
          "base_uri": "https://localhost:8080/"
        },
        "id": "OvrbFhUf5AVQ",
        "outputId": "0f6af8e2-bb3a-40b4-87fe-01ff9ccfc346"
      },
      "source": [
        "sub2_1=slt2[['2월','4월','6월']]\n",
        "print(sub2_1)"
      ],
      "execution_count": null,
      "outputs": [
        {
          "output_type": "stream",
          "text": [
            "2월     5.5\n",
            "4월    15.0\n",
            "6월    21.3\n",
            "dtype: float64\n"
          ],
          "name": "stdout"
        }
      ]
    },
    {
      "cell_type": "markdown",
      "metadata": {
        "id": "QTVb55OJ7HQx"
      },
      "source": [
        "#### 조건 사용"
      ]
    },
    {
      "cell_type": "code",
      "metadata": {
        "colab": {
          "base_uri": "https://localhost:8080/"
        },
        "id": "D2bcfzGj7J6a",
        "outputId": "8f6b735c-04de-4944-af84-e6b3daed4606"
      },
      "source": [
        "print(slt)"
      ],
      "execution_count": null,
      "outputs": [
        {
          "output_type": "stream",
          "text": [
            "0     4.1\n",
            "1     5.5\n",
            "2     9.0\n",
            "3    15.0\n",
            "4    19.0\n",
            "5    21.3\n",
            "dtype: float64\n"
          ],
          "name": "stdout"
        }
      ]
    },
    {
      "cell_type": "code",
      "metadata": {
        "colab": {
          "base_uri": "https://localhost:8080/"
        },
        "id": "qqz0ga8w7TLf",
        "outputId": "391f819b-e337-4974-c20f-feb6af5833fa"
      },
      "source": [
        "slt > 10"
      ],
      "execution_count": null,
      "outputs": [
        {
          "output_type": "execute_result",
          "data": {
            "text/plain": [
              "0    False\n",
              "1    False\n",
              "2    False\n",
              "3     True\n",
              "4     True\n",
              "5     True\n",
              "dtype: bool"
            ]
          },
          "metadata": {
            "tags": []
          },
          "execution_count": 22
        }
      ]
    },
    {
      "cell_type": "code",
      "metadata": {
        "colab": {
          "base_uri": "https://localhost:8080/"
        },
        "id": "IdMbByTM7fBM",
        "outputId": "345a35b3-a043-4e8c-cfb3-789ee11c327b"
      },
      "source": [
        "slt[slt>10]\n",
        " "
      ],
      "execution_count": null,
      "outputs": [
        {
          "output_type": "execute_result",
          "data": {
            "text/plain": [
              "3    15.0\n",
              "4    19.0\n",
              "5    21.3\n",
              "dtype: float64"
            ]
          },
          "metadata": {
            "tags": []
          },
          "execution_count": 32
        }
      ]
    },
    {
      "cell_type": "code",
      "metadata": {
        "colab": {
          "base_uri": "https://localhost:8080/"
        },
        "id": "R1QgLNEW7iOu",
        "outputId": "52d6dcf8-9d4c-49a7-fbff-e718e733072a"
      },
      "source": [
        "slt[slt.values>10]\n",
        " "
      ],
      "execution_count": null,
      "outputs": [
        {
          "output_type": "execute_result",
          "data": {
            "text/plain": [
              "3    15.0\n",
              "4    19.0\n",
              "5    21.3\n",
              "dtype: float64"
            ]
          },
          "metadata": {
            "tags": []
          },
          "execution_count": 33
        }
      ]
    },
    {
      "cell_type": "code",
      "metadata": {
        "colab": {
          "base_uri": "https://localhost:8080/"
        },
        "id": "w_DB2GG07tLZ",
        "outputId": "cdb8f01c-3dcb-4fc3-9e48-67ea18a1679f"
      },
      "source": [
        "slt[slt.index>=3]\n",
        " "
      ],
      "execution_count": null,
      "outputs": [
        {
          "output_type": "execute_result",
          "data": {
            "text/plain": [
              "3    15.0\n",
              "4    19.0\n",
              "5    21.3\n",
              "dtype: float64"
            ]
          },
          "metadata": {
            "tags": []
          },
          "execution_count": 34
        }
      ]
    },
    {
      "cell_type": "markdown",
      "metadata": {
        "id": "0L8-sxGe7m1d"
      },
      "source": [
        "### **시리즈(Series) 연산**\n",
        "* 시리즈(Series) 길이가 같고 인덱스가 같은 것끼리 연산\n",
        " + 더하기(+) : 각 값 더하기 \n",
        " + 곱하기(*) : 각 값 곱하기"
      ]
    },
    {
      "cell_type": "code",
      "metadata": {
        "colab": {
          "base_uri": "https://localhost:8080/"
        },
        "id": "YEPD_XXT8gMP",
        "outputId": "5fb35eea-38e2-43d9-c097-79a957c502c2"
      },
      "source": [
        "print(slt)\n",
        "print(slt2)"
      ],
      "execution_count": null,
      "outputs": [
        {
          "output_type": "stream",
          "text": [
            "0     4.1\n",
            "1     5.5\n",
            "2     9.0\n",
            "3    15.0\n",
            "4    19.0\n",
            "5    21.3\n",
            "dtype: float64\n",
            "1월     4.1\n",
            "2월     5.5\n",
            "3월     9.0\n",
            "4월    15.0\n",
            "5월    19.0\n",
            "6월    21.3\n",
            "dtype: float64\n"
          ],
          "name": "stdout"
        }
      ]
    },
    {
      "cell_type": "code",
      "metadata": {
        "colab": {
          "base_uri": "https://localhost:8080/"
        },
        "id": "y766JEqK8rf-",
        "outputId": "728b1778-0dc3-4ece-c0e7-9046deaba231"
      },
      "source": [
        "인덱스가 다른 경우\n",
        "print(slt + slt2)"
      ],
      "execution_count": null,
      "outputs": [
        {
          "output_type": "stream",
          "text": [
            "0    NaN\n",
            "1    NaN\n",
            "2    NaN\n",
            "3    NaN\n",
            "4    NaN\n",
            "5    NaN\n",
            "1월   NaN\n",
            "2월   NaN\n",
            "3월   NaN\n",
            "4월   NaN\n",
            "5월   NaN\n",
            "6월   NaN\n",
            "dtype: float64\n"
          ],
          "name": "stdout"
        }
      ]
    },
    {
      "cell_type": "code",
      "metadata": {
        "colab": {
          "base_uri": "https://localhost:8080/"
        },
        "id": "j5VSvPbK84Vz",
        "outputId": "eee11c48-24ab-41c1-9c1f-f3466234d27a"
      },
      "source": [
        "slt.index = slt2.index\n",
        "print(slt)\n",
        "print(slt2)"
      ],
      "execution_count": null,
      "outputs": [
        {
          "output_type": "stream",
          "text": [
            "1월     4.1\n",
            "2월     5.5\n",
            "3월     9.0\n",
            "4월    15.0\n",
            "5월    19.0\n",
            "6월    21.3\n",
            "dtype: float64\n",
            "1월     4.1\n",
            "2월     5.5\n",
            "3월     9.0\n",
            "4월    15.0\n",
            "5월    19.0\n",
            "6월    21.3\n",
            "dtype: float64\n"
          ],
          "name": "stdout"
        }
      ]
    },
    {
      "cell_type": "code",
      "metadata": {
        "colab": {
          "base_uri": "https://localhost:8080/"
        },
        "id": "m4hMGiJc9FJT",
        "outputId": "ca8e6ac3-f5d2-4bc2-882c-cdbd9e0e17b6"
      },
      "source": [
        "#인덱스가 같은 경우\n",
        "print(slt + slt2)\n",
        "print(slt * slt2)"
      ],
      "execution_count": null,
      "outputs": [
        {
          "output_type": "stream",
          "text": [
            "1월     8.2\n",
            "2월    11.0\n",
            "3월    18.0\n",
            "4월    30.0\n",
            "5월    38.0\n",
            "6월    42.6\n",
            "dtype: float64\n",
            "1월     16.81\n",
            "2월     30.25\n",
            "3월     81.00\n",
            "4월    225.00\n",
            "5월    361.00\n",
            "6월    453.69\n",
            "dtype: float64\n"
          ],
          "name": "stdout"
        }
      ]
    },
    {
      "cell_type": "markdown",
      "metadata": {
        "id": "y5yftJED790Q"
      },
      "source": [
        "### **시리즈(Series) 기본 조회와 기초 통계 메소드**\n",
        "* head(n) : 상위 n개 조회, n생략 시 5개 조회\n",
        "+ tail(n) : 하위 n개 조회, n생략 시 5개 조회\n",
        "+ describe() : 요약 통계량 계산\n",
        "+ mean() : 평균\n",
        "+ max() : 최대\n",
        "+ min() : 최소\n",
        "+ std()  : 표준편차"
      ]
    },
    {
      "cell_type": "code",
      "metadata": {
        "colab": {
          "base_uri": "https://localhost:8080/"
        },
        "id": "FpFqpash-KEK",
        "outputId": "8a616190-a8c6-4f4a-bfcb-16ded058ad62"
      },
      "source": [
        "print(slt)"
      ],
      "execution_count": null,
      "outputs": [
        {
          "output_type": "stream",
          "text": [
            "1월     4.1\n",
            "2월     5.5\n",
            "3월     9.0\n",
            "4월    15.0\n",
            "5월    19.0\n",
            "6월    21.3\n",
            "dtype: float64\n"
          ],
          "name": "stdout"
        }
      ]
    },
    {
      "cell_type": "code",
      "metadata": {
        "colab": {
          "base_uri": "https://localhost:8080/"
        },
        "id": "wJEKOJSAAEaC",
        "outputId": "90bd99f3-055b-4b86-d9a1-0bbcf06e7eda"
      },
      "source": [
        "slt.head()"
      ],
      "execution_count": null,
      "outputs": [
        {
          "output_type": "execute_result",
          "data": {
            "text/plain": [
              "0     4.1\n",
              "1     5.5\n",
              "2     9.0\n",
              "3    15.0\n",
              "4    19.0\n",
              "dtype: float64"
            ]
          },
          "metadata": {
            "tags": []
          },
          "execution_count": 38
        }
      ]
    },
    {
      "cell_type": "code",
      "metadata": {
        "colab": {
          "base_uri": "https://localhost:8080/"
        },
        "id": "luZHKfrSAKB6",
        "outputId": "78c4ad32-2e43-4a7d-a88f-44d12dbcdf10"
      },
      "source": [
        "slt.tail(2)"
      ],
      "execution_count": null,
      "outputs": [
        {
          "output_type": "execute_result",
          "data": {
            "text/plain": [
              "4    19.0\n",
              "5    21.3\n",
              "dtype: float64"
            ]
          },
          "metadata": {
            "tags": []
          },
          "execution_count": 40
        }
      ]
    },
    {
      "cell_type": "code",
      "metadata": {
        "colab": {
          "base_uri": "https://localhost:8080/"
        },
        "id": "1ayZWyLjAMFG",
        "outputId": "98a1d020-4b04-447c-f706-aed535a24a78"
      },
      "source": [
        "slt.describe()"
      ],
      "execution_count": null,
      "outputs": [
        {
          "output_type": "execute_result",
          "data": {
            "text/plain": [
              "count     6.000000\n",
              "mean     12.316667\n",
              "std       7.177024\n",
              "min       4.100000\n",
              "25%       6.375000\n",
              "50%      12.000000\n",
              "75%      18.000000\n",
              "max      21.300000\n",
              "dtype: float64"
            ]
          },
          "metadata": {
            "tags": []
          },
          "execution_count": 41
        }
      ]
    },
    {
      "cell_type": "code",
      "metadata": {
        "colab": {
          "base_uri": "https://localhost:8080/"
        },
        "id": "UWIUKzfKAPpE",
        "outputId": "34f87b4b-618b-4652-a8dd-3d4da7941efc"
      },
      "source": [
        "slt.mean()"
      ],
      "execution_count": null,
      "outputs": [
        {
          "output_type": "execute_result",
          "data": {
            "text/plain": [
              "12.316666666666668"
            ]
          },
          "metadata": {
            "tags": []
          },
          "execution_count": 42
        }
      ]
    },
    {
      "cell_type": "markdown",
      "metadata": {
        "id": "bFXP2GytA5X_"
      },
      "source": [
        "### **자주 사용되는 메소드**\n",
        "+ equals() : 시리즈와 시리즈가 같은지 비교, 키와 값이 모두 같아야 함\n",
        "+ replace() : 특정값을 가진 요소 값을 변경\n",
        "+ isin() : 시리즈에 포함된 값이 있는지 확인\n",
        "+ drop_duplicates() : 중복값이 없는 시리즈 반환\n",
        "+ append() : 2개이상의 시리즈 연결\n",
        "+ sort_index(ascending=True) : 인덱스로 정렬\n",
        "+ sort_values(ascending=False) : 값으로 정렬\n",
        "+ to_frame() : 시리즈를 데이터프레임으로 변경"
      ]
    },
    {
      "cell_type": "code",
      "metadata": {
        "id": "BXjfGW9nBeXU"
      },
      "source": [
        "dt = {'1월':4.1, '2월':5.5, '3월':9.0, '4월':15.0, '5월':19.0 ,'6월':21.3}\n",
        "sdt1 = pd.Series(dt)  \n",
        "sdt2 = pd.Series(dt.values()) "
      ],
      "execution_count": null,
      "outputs": []
    },
    {
      "cell_type": "code",
      "metadata": {
        "colab": {
          "base_uri": "https://localhost:8080/"
        },
        "id": "V10QK33cBs69",
        "outputId": "376c7900-10f5-448f-cbe5-fd9a1fd889a4"
      },
      "source": [
        "print('[시리즈1]')\n",
        "print(sdt1)\n",
        "print('[시리즈2]')\n",
        "print(sdt2) "
      ],
      "execution_count": null,
      "outputs": [
        {
          "output_type": "stream",
          "text": [
            "[시리즈1]\n",
            "1월     4.1\n",
            "2월    15.5\n",
            "3월     9.0\n",
            "5월    19.0\n",
            "6월    21.3\n",
            "dtype: float64\n",
            "[시리즈2]\n",
            "0     4.1\n",
            "1     5.5\n",
            "2     9.0\n",
            "3    15.0\n",
            "4    19.0\n",
            "5    21.3\n",
            "dtype: float64\n"
          ],
          "name": "stdout"
        }
      ]
    },
    {
      "cell_type": "code",
      "metadata": {
        "colab": {
          "base_uri": "https://localhost:8080/"
        },
        "id": "gFzdso_OB0Wf",
        "outputId": "34bae7bd-0f2d-4d94-bde0-4d65e2b3a5b4"
      },
      "source": [
        "print('비교 :', sdt1.equals(sdt2))"
      ],
      "execution_count": null,
      "outputs": [
        {
          "output_type": "stream",
          "text": [
            "비교 : False\n"
          ],
          "name": "stdout"
        }
      ]
    },
    {
      "cell_type": "code",
      "metadata": {
        "colab": {
          "base_uri": "https://localhost:8080/"
        },
        "id": "Im4my3opB5LV",
        "outputId": "822cef8e-17a0-40cc-e865-cfe780179e0f"
      },
      "source": [
        "print('변경 :')\n",
        "sdt1=sdt1.replace(5.5,15)\n",
        "print(sdt1)"
      ],
      "execution_count": null,
      "outputs": [
        {
          "output_type": "stream",
          "text": [
            "변경 :\n",
            "1월     4.1\n",
            "2월    15.5\n",
            "3월     9.0\n",
            "4월    15.5\n",
            "5월    19.0\n",
            "6월    21.3\n",
            "dtype: float64\n"
          ],
          "name": "stdout"
        }
      ]
    },
    {
      "cell_type": "code",
      "metadata": {
        "colab": {
          "base_uri": "https://localhost:8080/"
        },
        "id": "AsiPDZ29YjQc",
        "outputId": "e591d547-e205-4493-d1f4-72db16ec3529"
      },
      "source": [
        "sdt1 = sdt1.replace(15, 15.5)\n",
        "print(sdt1)"
      ],
      "execution_count": null,
      "outputs": [
        {
          "output_type": "stream",
          "text": [
            "1월     4.1\n",
            "2월    15.5\n",
            "3월     9.0\n",
            "4월    15.5\n",
            "5월    19.0\n",
            "6월    21.3\n",
            "dtype: float64\n"
          ],
          "name": "stdout"
        }
      ]
    },
    {
      "cell_type": "code",
      "metadata": {
        "colab": {
          "base_uri": "https://localhost:8080/"
        },
        "id": "F1480C2SB8Mr",
        "outputId": "496ef4ec-381b-48ea-d385-b60e1323f731"
      },
      "source": [
        "print('포함:')\n",
        "print(sdt1[sdt1.isin([15.5,9.0])])\n",
        "\n",
        " "
      ],
      "execution_count": null,
      "outputs": [
        {
          "output_type": "stream",
          "text": [
            "포함:\n",
            "2월    15.5\n",
            "3월     9.0\n",
            "4월    15.5\n",
            "dtype: float64\n"
          ],
          "name": "stdout"
        }
      ]
    },
    {
      "cell_type": "code",
      "metadata": {
        "colab": {
          "base_uri": "https://localhost:8080/"
        },
        "id": "W8wfvcNrCC5E",
        "outputId": "c022b151-d482-414b-e22e-48bad95a3f90"
      },
      "source": [
        "print('중복제거:')\n",
        "print(sdt1.drop_duplicates()) \n",
        "print('중복제거반영확인:')\n",
        "sdt1=(sdt1.drop_duplicates())\n",
        "\n",
        "print(sdt1)"
      ],
      "execution_count": null,
      "outputs": [
        {
          "output_type": "stream",
          "text": [
            "중복제거:\n",
            "1월     4.1\n",
            "2월    15.5\n",
            "3월     9.0\n",
            "5월    19.0\n",
            "6월    21.3\n",
            "dtype: float64\n",
            "중복제거반영확인:\n",
            "1월     4.1\n",
            "2월    15.5\n",
            "3월     9.0\n",
            "5월    19.0\n",
            "6월    21.3\n",
            "dtype: float64\n"
          ],
          "name": "stdout"
        }
      ]
    },
    {
      "cell_type": "code",
      "metadata": {
        "colab": {
          "base_uri": "https://localhost:8080/"
        },
        "id": "Qdy9gcQUCHA0",
        "outputId": "de004c90-f126-493a-c2e0-4091d7a5c7c3"
      },
      "source": [
        "print('연결:')\n",
        "print(sdt1.append(sdt2))\n"
      ],
      "execution_count": null,
      "outputs": [
        {
          "output_type": "stream",
          "text": [
            "연결:\n",
            "1월     4.1\n",
            "2월    15.5\n",
            "3월     9.0\n",
            "5월    19.0\n",
            "6월    21.3\n",
            "0      4.1\n",
            "1      5.5\n",
            "2      9.0\n",
            "3     15.0\n",
            "4     19.0\n",
            "5     21.3\n",
            "dtype: float64\n"
          ],
          "name": "stdout"
        }
      ]
    },
    {
      "cell_type": "code",
      "metadata": {
        "colab": {
          "base_uri": "https://localhost:8080/"
        },
        "id": "JlO85hlmCKEz",
        "outputId": "74cc74bd-a797-4b8c-e5f2-e4048aa2f67a"
      },
      "source": [
        "print('정렬(값):')\n",
        "print(sdt1.sort_values(ascending=False))\n",
        "print('정렬(인덱스):')\n",
        "print(sdt1.sort_index(ascending=False))"
      ],
      "execution_count": null,
      "outputs": [
        {
          "output_type": "stream",
          "text": [
            "정렬(값):\n",
            "6월    21.3\n",
            "5월    19.0\n",
            "2월    15.5\n",
            "3월     9.0\n",
            "1월     4.1\n",
            "dtype: float64\n",
            "정렬(인덱스):\n",
            "6월    21.3\n",
            "5월    19.0\n",
            "3월     9.0\n",
            "2월    15.5\n",
            "1월     4.1\n",
            "dtype: float64\n"
          ],
          "name": "stdout"
        }
      ]
    },
    {
      "cell_type": "code",
      "metadata": {
        "colab": {
          "base_uri": "https://localhost:8080/"
        },
        "id": "_cVdvd6lCN0F",
        "outputId": "77136186-3782-45ca-9ddd-ff70bc1c64d0"
      },
      "source": [
        "print('데이터프레임변환:')\n",
        "print(sdt1.to_frame())"
      ],
      "execution_count": null,
      "outputs": [
        {
          "output_type": "stream",
          "text": [
            "데이터프레임변환:\n",
            "       0\n",
            "1월   4.1\n",
            "2월  15.5\n",
            "3월   9.0\n",
            "5월  19.0\n",
            "6월  21.3\n"
          ],
          "name": "stdout"
        }
      ]
    },
    {
      "cell_type": "code",
      "metadata": {
        "colab": {
          "base_uri": "https://localhost:8080/"
        },
        "id": "kuAK61heZuQT",
        "outputId": "30d17dbc-b838-4a86-a83f-1e8e5eb8a428"
      },
      "source": [
        "type(sdt1)"
      ],
      "execution_count": null,
      "outputs": [
        {
          "output_type": "execute_result",
          "data": {
            "text/plain": [
              "pandas.core.frame.DataFrame"
            ]
          },
          "metadata": {
            "tags": []
          },
          "execution_count": 55
        }
      ]
    },
    {
      "cell_type": "markdown",
      "metadata": {
        "id": "5otXQBjgCfxm"
      },
      "source": [
        "\n",
        "\n",
        "---\n",
        "## (해결문제)\n",
        "다음 인문대학의 추가 합격 후보 순위를 나타내는 딕션너리이다. 이 딕션너리를 판다스 시리즈로 변환하여 다음을 해결하시오.\n",
        "1. 딕션너리 시리즈로 변환\n",
        "2. 학과를 입력 받아서 해당학과의 후보순위, 단 입력종료 메시지를 추가하여 종료가 입력되지 않으면 계속 입력\n",
        "   * 결과예시)\n",
        "   ``` \n",
        "    학과입력 =>\n",
        "일어학과\n",
        "해당 학과는 존재하지 않습니다.\n",
        "종료하시겠습니까?(종료:y)n\n",
        "학과입력 =>\n",
        "일어일문학과\n",
        "일어일문학과 추가 합격 순위 : 후보 8\n",
        "종료하시겠습니까?(종료:y)y\n",
        "  ```\n",
        "3. 후보순위가 3번 이하인 학과와 후보순위가 20번 이상인 학과 조회\n",
        "   * 조건식을 이용하는 방법\n",
        "   * 메소드를 이용하는 방법 \n",
        "4. 평균 추가 합격 순위\n",
        "   * 출력예) 평균 추가 합격 순위 : 7위\n",
        "5. 학과 명칭대로 정렬하여 시리즈에 반영\n",
        " "
      ]
    },
    {
      "cell_type": "code",
      "metadata": {
        "id": "meuWOzumGhI4",
        "colab": {
          "base_uri": "https://localhost:8080/"
        },
        "outputId": "73844248-1282-4ce7-ed47-afb98216696e"
      },
      "source": [
        "dt = {'국어국문학과':7,\t'중어중문학과':4,\t'일어일문학과':8,\t'영어영문학과':30,\t'불어불문학과':5,\t'독어독문학과':4,\t'노어노문학과':5,\t'한문학과':6,\t'언어정보학과':3,\t'사학과':7,\t'철학과':5,\t'고고학과':9}\n",
        "sdt=pd.Series(dt)\n",
        "print(sdt)"
      ],
      "execution_count": null,
      "outputs": [
        {
          "output_type": "stream",
          "text": [
            "국어국문학과     7\n",
            "중어중문학과     4\n",
            "일어일문학과     8\n",
            "영어영문학과    30\n",
            "불어불문학과     5\n",
            "독어독문학과     4\n",
            "노어노문학과     5\n",
            "한문학과       6\n",
            "언어정보학과     3\n",
            "사학과        7\n",
            "철학과        5\n",
            "고고학과       9\n",
            "dtype: int64\n"
          ],
          "name": "stdout"
        }
      ]
    },
    {
      "cell_type": "code",
      "metadata": {
        "colab": {
          "base_uri": "https://localhost:8080/"
        },
        "id": "m6XTp1l4JEHr",
        "outputId": "007ee989-b055-4226-c4e8-880f0e7a33c9"
      },
      "source": [
        "# 학과 후보순위\n",
        "for i in range(len(sdt)) :\n",
        "  sub=slt['학과입력 => ']\n",
        "  print(sub)\n",
        "  \n",
        "      \n"
      ],
      "execution_count": null,
      "outputs": [
        {
          "output_type": "stream",
          "text": [
            "학과입력 =>\n",
            "국문학과\n",
            "해당 학과는 존재하지 않습니다.\n",
            "종료하시겠습니까?(종료:y)n\n",
            "학과입력 =>\n",
            "국어국문학과\n",
            "국어국문학과 추가 합격 순위 : 후보 7\n",
            "종료하시겠습니까?(종료:y)영어영문학과\n",
            "학과입력 =>\n",
            "영어영문학과\n",
            "영어영문학과 추가 합격 순위 : 후보 30\n",
            "종료하시겠습니까?(종료:y)Y\n"
          ],
          "name": "stdout"
        }
      ]
    },
    {
      "cell_type": "code",
      "metadata": {
        "colab": {
          "base_uri": "https://localhost:8080/"
        },
        "id": "GupWYDqwJNbZ",
        "outputId": "0523569c-6e0c-4f73-ab96-70f945b3bb9b"
      },
      "source": [
        "# 후보순위가 3번 이하인 학과와 후보순위가 20번 이상인 학과 조회\n",
        " "
      ],
      "execution_count": null,
      "outputs": [
        {
          "output_type": "execute_result",
          "data": {
            "text/plain": [
              "영어영문학과    30\n",
              "언어정보학과     3\n",
              "dtype: int64"
            ]
          },
          "metadata": {
            "tags": []
          },
          "execution_count": 64
        }
      ]
    },
    {
      "cell_type": "code",
      "metadata": {
        "colab": {
          "base_uri": "https://localhost:8080/"
        },
        "id": "4629Y849zscy",
        "outputId": "9e38b138-e4e0-453b-d545-ace9617da355"
      },
      "source": [
        " "
      ],
      "execution_count": null,
      "outputs": [
        {
          "output_type": "execute_result",
          "data": {
            "text/plain": [
              "언어정보학과    3\n",
              "dtype: int64"
            ]
          },
          "metadata": {
            "tags": []
          },
          "execution_count": 65
        }
      ]
    },
    {
      "cell_type": "code",
      "metadata": {
        "colab": {
          "base_uri": "https://localhost:8080/"
        },
        "id": "h29SMwL3zvXD",
        "outputId": "a49f194f-5715-4b98-e4e9-25991ef5e403"
      },
      "source": [
        " "
      ],
      "execution_count": null,
      "outputs": [
        {
          "output_type": "execute_result",
          "data": {
            "text/plain": [
              "영어영문학과    30\n",
              "dtype: int64"
            ]
          },
          "metadata": {
            "tags": []
          },
          "execution_count": 66
        }
      ]
    },
    {
      "cell_type": "code",
      "metadata": {
        "colab": {
          "base_uri": "https://localhost:8080/"
        },
        "id": "L2KvDt6VKT4Z",
        "outputId": "416d3fc9-8b78-4726-c7b5-d86f7aeebe19"
      },
      "source": [
        " "
      ],
      "execution_count": null,
      "outputs": [
        {
          "output_type": "execute_result",
          "data": {
            "text/plain": [
              "언어정보학과     3\n",
              "영어영문학과    30\n",
              "dtype: int64"
            ]
          },
          "metadata": {
            "tags": []
          },
          "execution_count": 67
        }
      ]
    },
    {
      "cell_type": "code",
      "metadata": {
        "colab": {
          "base_uri": "https://localhost:8080/"
        },
        "id": "DSNGbBI2Kw_l",
        "outputId": "697f131b-4cb4-4c43-ccbd-e53fac536248"
      },
      "source": [
        "#평균 추가 합격 순위\n",
        " "
      ],
      "execution_count": null,
      "outputs": [
        {
          "output_type": "stream",
          "text": [
            " 평균 추가 합격 순위 : 7위\n"
          ],
          "name": "stdout"
        }
      ]
    },
    {
      "cell_type": "code",
      "metadata": {
        "id": "gxBiY2vO0Osc"
      },
      "source": [
        " "
      ],
      "execution_count": null,
      "outputs": []
    },
    {
      "cell_type": "code",
      "metadata": {
        "colab": {
          "base_uri": "https://localhost:8080/"
        },
        "id": "IVaxfjTA0Unf",
        "outputId": "67a75d33-da4e-401c-f12d-87e3f48a21fa"
      },
      "source": [
        " "
      ],
      "execution_count": null,
      "outputs": [
        {
          "output_type": "execute_result",
          "data": {
            "text/plain": [
              "언어정보학과     3\n",
              "독어독문학과     4\n",
              "중어중문학과     4\n",
              "노어노문학과     5\n",
              "불어불문학과     5\n",
              "철학과        5\n",
              "한문학과       6\n",
              "국어국문학과     7\n",
              "사학과        7\n",
              "일어일문학과     8\n",
              "고고학과       9\n",
              "영어영문학과    30\n",
              "dtype: int64"
            ]
          },
          "metadata": {
            "tags": []
          },
          "execution_count": 76
        }
      ]
    },
    {
      "cell_type": "code",
      "metadata": {
        "colab": {
          "base_uri": "https://localhost:8080/"
        },
        "id": "NKNV4QorLIY9",
        "outputId": "7a41b68a-b366-493f-aa5b-e76b9dd55b31"
      },
      "source": [
        "#학과 명칭대로 정렬\n",
        " "
      ],
      "execution_count": null,
      "outputs": [
        {
          "output_type": "stream",
          "text": [
            "고고학과       9\n",
            "국어국문학과     7\n",
            "노어노문학과     5\n",
            "독어독문학과     4\n",
            "불어불문학과     5\n",
            "사학과        7\n",
            "언어정보학과     3\n",
            "영어영문학과    30\n",
            "일어일문학과     8\n",
            "중어중문학과     4\n",
            "철학과        5\n",
            "한문학과       6\n",
            "dtype: int64\n"
          ],
          "name": "stdout"
        }
      ]
    },
    {
      "cell_type": "code",
      "metadata": {
        "colab": {
          "base_uri": "https://localhost:8080/"
        },
        "id": "Ddfc1hQk0HXo",
        "outputId": "1e82d13a-fedc-4190-fbf3-2709e3f666bf"
      },
      "source": [
        " "
      ],
      "execution_count": null,
      "outputs": [
        {
          "output_type": "execute_result",
          "data": {
            "text/plain": [
              "고고학과       9\n",
              "국어국문학과     7\n",
              "노어노문학과     5\n",
              "독어독문학과     4\n",
              "불어불문학과     5\n",
              "사학과        7\n",
              "언어정보학과     3\n",
              "영어영문학과    30\n",
              "일어일문학과     8\n",
              "중어중문학과     4\n",
              "철학과        5\n",
              "한문학과       6\n",
              "dtype: int64"
            ]
          },
          "metadata": {
            "tags": []
          },
          "execution_count": 72
        }
      ]
    }
  ]
}